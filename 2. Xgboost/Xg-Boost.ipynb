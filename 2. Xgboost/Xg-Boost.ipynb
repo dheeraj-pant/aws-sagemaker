{
 "cells": [
  {
   "cell_type": "code",
   "execution_count": 2,
   "id": "c81678d7",
   "metadata": {},
   "outputs": [],
   "source": [
    "import pandas as pd\n",
    "import numpy as np\n",
    "insurance_df=pd.read_csv('insurance.csv')"
   ]
  },
  {
   "cell_type": "code",
   "execution_count": 3,
   "id": "0f22da1a",
   "metadata": {},
   "outputs": [
    {
     "data": {
      "text/html": [
       "<div>\n",
       "<style scoped>\n",
       "    .dataframe tbody tr th:only-of-type {\n",
       "        vertical-align: middle;\n",
       "    }\n",
       "\n",
       "    .dataframe tbody tr th {\n",
       "        vertical-align: top;\n",
       "    }\n",
       "\n",
       "    .dataframe thead th {\n",
       "        text-align: right;\n",
       "    }\n",
       "</style>\n",
       "<table border=\"1\" class=\"dataframe\">\n",
       "  <thead>\n",
       "    <tr style=\"text-align: right;\">\n",
       "      <th></th>\n",
       "      <th>age</th>\n",
       "      <th>sex</th>\n",
       "      <th>bmi</th>\n",
       "      <th>children</th>\n",
       "      <th>smoker</th>\n",
       "      <th>region</th>\n",
       "      <th>charges</th>\n",
       "    </tr>\n",
       "  </thead>\n",
       "  <tbody>\n",
       "    <tr>\n",
       "      <th>1136</th>\n",
       "      <td>44</td>\n",
       "      <td>female</td>\n",
       "      <td>25.00</td>\n",
       "      <td>1</td>\n",
       "      <td>no</td>\n",
       "      <td>southwest</td>\n",
       "      <td>7623.5180</td>\n",
       "    </tr>\n",
       "    <tr>\n",
       "      <th>214</th>\n",
       "      <td>45</td>\n",
       "      <td>female</td>\n",
       "      <td>30.90</td>\n",
       "      <td>2</td>\n",
       "      <td>no</td>\n",
       "      <td>southwest</td>\n",
       "      <td>8520.0260</td>\n",
       "    </tr>\n",
       "    <tr>\n",
       "      <th>82</th>\n",
       "      <td>22</td>\n",
       "      <td>male</td>\n",
       "      <td>37.62</td>\n",
       "      <td>1</td>\n",
       "      <td>yes</td>\n",
       "      <td>southeast</td>\n",
       "      <td>37165.1638</td>\n",
       "    </tr>\n",
       "    <tr>\n",
       "      <th>753</th>\n",
       "      <td>58</td>\n",
       "      <td>female</td>\n",
       "      <td>22.77</td>\n",
       "      <td>0</td>\n",
       "      <td>no</td>\n",
       "      <td>southeast</td>\n",
       "      <td>11833.7823</td>\n",
       "    </tr>\n",
       "    <tr>\n",
       "      <th>1083</th>\n",
       "      <td>32</td>\n",
       "      <td>male</td>\n",
       "      <td>31.50</td>\n",
       "      <td>1</td>\n",
       "      <td>no</td>\n",
       "      <td>southwest</td>\n",
       "      <td>4076.4970</td>\n",
       "    </tr>\n",
       "  </tbody>\n",
       "</table>\n",
       "</div>"
      ],
      "text/plain": [
       "      age     sex    bmi  children smoker     region     charges\n",
       "1136   44  female  25.00         1     no  southwest   7623.5180\n",
       "214    45  female  30.90         2     no  southwest   8520.0260\n",
       "82     22    male  37.62         1    yes  southeast  37165.1638\n",
       "753    58  female  22.77         0     no  southeast  11833.7823\n",
       "1083   32    male  31.50         1     no  southwest   4076.4970"
      ]
     },
     "execution_count": 3,
     "metadata": {},
     "output_type": "execute_result"
    }
   ],
   "source": [
    "insurance_df.sample(5)"
   ]
  },
  {
   "cell_type": "code",
   "execution_count": 4,
   "id": "5e2f443e",
   "metadata": {},
   "outputs": [
    {
     "data": {
      "text/plain": [
       "Index(['age', 'sex', 'bmi', 'children', 'smoker', 'region', 'charges'], dtype='object')"
      ]
     },
     "execution_count": 4,
     "metadata": {},
     "output_type": "execute_result"
    }
   ],
   "source": [
    "insurance_df.columns"
   ]
  },
  {
   "cell_type": "code",
   "execution_count": 4,
   "id": "f3c2e619",
   "metadata": {},
   "outputs": [],
   "source": [
    "X=insurance_df.iloc[:,:-1].values\n",
    "y=insurance_df.iloc[:,-1].values"
   ]
  },
  {
   "cell_type": "code",
   "execution_count": 5,
   "id": "c59d19bf",
   "metadata": {},
   "outputs": [],
   "source": [
    "from sklearn.compose import ColumnTransformer\n",
    "from sklearn.preprocessing import OneHotEncoder,StandardScaler\n",
    "preprocessor = ColumnTransformer(transformers=[\n",
    "    ('tnf1',OneHotEncoder(sparse=False),[1,4,5]),\n",
    "    ('tnf2',StandardScaler(),[0,2,3])    \n",
    "    ],remainder='passthrough')"
   ]
  },
  {
   "cell_type": "code",
   "execution_count": 6,
   "id": "213d3bec",
   "metadata": {},
   "outputs": [],
   "source": [
    "# spliting the data in to test and train sets\n",
    "from sklearn.model_selection import train_test_split\n",
    "\n",
    "X_train, X_test, y_train, y_test = train_test_split(X, y, test_size = 0.20,random_state=42)\n",
    "X_test, X_val, y_test, y_val = train_test_split(X_test, y_test, test_size = 0.5,random_state=42)"
   ]
  },
  {
   "cell_type": "code",
   "execution_count": 7,
   "id": "7fc190b4",
   "metadata": {},
   "outputs": [],
   "source": [
    "X_train=preprocessor.fit_transform(X_train)\n",
    "X_test=preprocessor.transform(X_test)\n",
    "X_val=preprocessor.transform(X_val)"
   ]
  },
  {
   "cell_type": "code",
   "execution_count": 8,
   "id": "697cba6a",
   "metadata": {},
   "outputs": [
    {
     "name": "stdout",
     "output_type": "stream",
     "text": [
      "/opt/conda/lib/python3.7/site-packages/secretstorage/dhcrypto.py:16: CryptographyDeprecationWarning: int_from_bytes is deprecated, use int.from_bytes instead\n",
      "  from cryptography.utils import int_from_bytes\n",
      "/opt/conda/lib/python3.7/site-packages/secretstorage/util.py:25: CryptographyDeprecationWarning: int_from_bytes is deprecated, use int.from_bytes instead\n",
      "  from cryptography.utils import int_from_bytes\n",
      "Collecting xgboost\n",
      "  Using cached xgboost-1.5.0-py3-none-manylinux2014_x86_64.whl (173.5 MB)\n",
      "Requirement already satisfied: numpy in /opt/conda/lib/python3.7/site-packages (from xgboost) (1.20.3)\n",
      "Requirement already satisfied: scipy in /opt/conda/lib/python3.7/site-packages (from xgboost) (1.4.1)\n",
      "Installing collected packages: xgboost\n",
      "Successfully installed xgboost-1.5.0\n",
      "\u001b[33mWARNING: Running pip as the 'root' user can result in broken permissions and conflicting behaviour with the system package manager. It is recommended to use a virtual environment instead: https://pip.pypa.io/warnings/venv\u001b[0m\n"
     ]
    }
   ],
   "source": [
    "!pip install xgboost"
   ]
  },
  {
   "cell_type": "code",
   "execution_count": 9,
   "id": "b25c7c1f",
   "metadata": {},
   "outputs": [
    {
     "data": {
      "text/plain": [
       "XGBRegressor(base_score=0.5, booster='gbtree', colsample_bylevel=1,\n",
       "             colsample_bynode=1, colsample_bytree=1, enable_categorical=False,\n",
       "             gamma=0, gpu_id=-1, importance_type=None,\n",
       "             interaction_constraints='', learning_rate=0.1, max_delta_step=0,\n",
       "             max_depth=5, min_child_weight=1, missing=nan,\n",
       "             monotone_constraints='()', n_estimators=100, n_jobs=2,\n",
       "             num_parallel_tree=1, predictor='auto', random_state=0, reg_alpha=0,\n",
       "             reg_lambda=1, scale_pos_weight=1, subsample=1, tree_method='exact',\n",
       "             validate_parameters=1, verbosity=None)"
      ]
     },
     "execution_count": 9,
     "metadata": {},
     "output_type": "execute_result"
    }
   ],
   "source": [
    "import xgboost as xgb\n",
    "\n",
    "\n",
    "model = xgb.XGBRegressor(objective ='reg:squarederror', learning_rate = 0.1, max_depth = 5, n_estimators = 100)\n",
    "\n",
    "model.fit(X_train, y_train)"
   ]
  },
  {
   "cell_type": "code",
   "execution_count": 10,
   "id": "758eb25e",
   "metadata": {},
   "outputs": [
    {
     "name": "stdout",
     "output_type": "stream",
     "text": [
      "Accuracy : 0.864160875354439\n"
     ]
    }
   ],
   "source": [
    "# predict the score of the trained model using the testing dataset\n",
    "\n",
    "result = model.score(X_test, y_test)\n",
    "\n",
    "print(\"Accuracy : {}\".format(result))"
   ]
  },
  {
   "cell_type": "code",
   "execution_count": 11,
   "id": "806316e0",
   "metadata": {},
   "outputs": [],
   "source": [
    "# make predictions on the test data\n",
    "\n",
    "y_predict = model.predict(X_test)\n"
   ]
  },
  {
   "cell_type": "code",
   "execution_count": 12,
   "id": "8920cfd4",
   "metadata": {},
   "outputs": [
    {
     "name": "stdout",
     "output_type": "stream",
     "text": [
      "RMSE = 4401.225 \n",
      "MSE = 19370780.272913326 \n",
      "MAE = 2452.6838513279495 \n",
      "R2 = 0.864160875354439 \n",
      "Adjusted R2 = 0.8519130854273802\n"
     ]
    }
   ],
   "source": [
    "from sklearn.metrics import r2_score, mean_squared_error, mean_absolute_error\n",
    "from math import sqrt\n",
    "k = X_test.shape[1]\n",
    "n = len(X_test)\n",
    "RMSE = float(format(np.sqrt(mean_squared_error(y_test, y_predict)),'.3f'))\n",
    "MSE = mean_squared_error(y_test, y_predict)\n",
    "MAE = mean_absolute_error(y_test, y_predict)\n",
    "r2 = r2_score(y_test, y_predict)\n",
    "adj_r2 = 1-(1-r2)*(n-1)/(n-k-1)\n",
    "\n",
    "print('RMSE =',RMSE, '\\nMSE =',MSE, '\\nMAE =',MAE, '\\nR2 =', r2, '\\nAdjusted R2 =', adj_r2) "
   ]
  },
  {
   "cell_type": "code",
   "execution_count": 13,
   "id": "de2d3053",
   "metadata": {},
   "outputs": [],
   "source": [
    "# Convert the array into dataframe in a way that target variable is set as the first column and followed by feature columns\n",
    "# This is because sagemaker built-in algorithm expects the data in this format.\n",
    "\n",
    "train_data = pd.DataFrame({'Target': y_train})\n",
    "for i in range(X_train.shape[1]):\n",
    "    train_data[i] = X_train[:,i]"
   ]
  },
  {
   "cell_type": "code",
   "execution_count": 14,
   "id": "ce108266",
   "metadata": {},
   "outputs": [
    {
     "data": {
      "text/html": [
       "<div>\n",
       "<style scoped>\n",
       "    .dataframe tbody tr th:only-of-type {\n",
       "        vertical-align: middle;\n",
       "    }\n",
       "\n",
       "    .dataframe tbody tr th {\n",
       "        vertical-align: top;\n",
       "    }\n",
       "\n",
       "    .dataframe thead th {\n",
       "        text-align: right;\n",
       "    }\n",
       "</style>\n",
       "<table border=\"1\" class=\"dataframe\">\n",
       "  <thead>\n",
       "    <tr style=\"text-align: right;\">\n",
       "      <th></th>\n",
       "      <th>Target</th>\n",
       "      <th>0</th>\n",
       "      <th>1</th>\n",
       "      <th>2</th>\n",
       "      <th>3</th>\n",
       "      <th>4</th>\n",
       "      <th>5</th>\n",
       "      <th>6</th>\n",
       "      <th>7</th>\n",
       "      <th>8</th>\n",
       "      <th>9</th>\n",
       "      <th>10</th>\n",
       "    </tr>\n",
       "  </thead>\n",
       "  <tbody>\n",
       "    <tr>\n",
       "      <th>0</th>\n",
       "      <td>9193.83850</td>\n",
       "      <td>1.0</td>\n",
       "      <td>0.0</td>\n",
       "      <td>1.0</td>\n",
       "      <td>0.0</td>\n",
       "      <td>0.0</td>\n",
       "      <td>1.0</td>\n",
       "      <td>0.0</td>\n",
       "      <td>0.0</td>\n",
       "      <td>0.472227</td>\n",
       "      <td>-1.756525</td>\n",
       "      <td>0.734336</td>\n",
       "    </tr>\n",
       "    <tr>\n",
       "      <th>1</th>\n",
       "      <td>8534.67180</td>\n",
       "      <td>1.0</td>\n",
       "      <td>0.0</td>\n",
       "      <td>1.0</td>\n",
       "      <td>0.0</td>\n",
       "      <td>1.0</td>\n",
       "      <td>0.0</td>\n",
       "      <td>0.0</td>\n",
       "      <td>0.0</td>\n",
       "      <td>0.543313</td>\n",
       "      <td>-1.033082</td>\n",
       "      <td>-0.911192</td>\n",
       "    </tr>\n",
       "    <tr>\n",
       "      <th>2</th>\n",
       "      <td>27117.99378</td>\n",
       "      <td>1.0</td>\n",
       "      <td>0.0</td>\n",
       "      <td>1.0</td>\n",
       "      <td>0.0</td>\n",
       "      <td>0.0</td>\n",
       "      <td>0.0</td>\n",
       "      <td>1.0</td>\n",
       "      <td>0.0</td>\n",
       "      <td>0.898745</td>\n",
       "      <td>-0.943687</td>\n",
       "      <td>-0.911192</td>\n",
       "    </tr>\n",
       "    <tr>\n",
       "      <th>3</th>\n",
       "      <td>8596.82780</td>\n",
       "      <td>1.0</td>\n",
       "      <td>0.0</td>\n",
       "      <td>1.0</td>\n",
       "      <td>0.0</td>\n",
       "      <td>0.0</td>\n",
       "      <td>0.0</td>\n",
       "      <td>1.0</td>\n",
       "      <td>0.0</td>\n",
       "      <td>-0.025379</td>\n",
       "      <td>0.622393</td>\n",
       "      <td>3.202629</td>\n",
       "    </tr>\n",
       "    <tr>\n",
       "      <th>4</th>\n",
       "      <td>12475.35130</td>\n",
       "      <td>1.0</td>\n",
       "      <td>0.0</td>\n",
       "      <td>1.0</td>\n",
       "      <td>0.0</td>\n",
       "      <td>0.0</td>\n",
       "      <td>1.0</td>\n",
       "      <td>0.0</td>\n",
       "      <td>0.0</td>\n",
       "      <td>1.040918</td>\n",
       "      <td>-1.504893</td>\n",
       "      <td>1.557100</td>\n",
       "    </tr>\n",
       "  </tbody>\n",
       "</table>\n",
       "</div>"
      ],
      "text/plain": [
       "        Target    0    1    2    3    4    5    6    7         8         9  \\\n",
       "0   9193.83850  1.0  0.0  1.0  0.0  0.0  1.0  0.0  0.0  0.472227 -1.756525   \n",
       "1   8534.67180  1.0  0.0  1.0  0.0  1.0  0.0  0.0  0.0  0.543313 -1.033082   \n",
       "2  27117.99378  1.0  0.0  1.0  0.0  0.0  0.0  1.0  0.0  0.898745 -0.943687   \n",
       "3   8596.82780  1.0  0.0  1.0  0.0  0.0  0.0  1.0  0.0 -0.025379  0.622393   \n",
       "4  12475.35130  1.0  0.0  1.0  0.0  0.0  1.0  0.0  0.0  1.040918 -1.504893   \n",
       "\n",
       "         10  \n",
       "0  0.734336  \n",
       "1 -0.911192  \n",
       "2 -0.911192  \n",
       "3  3.202629  \n",
       "4  1.557100  "
      ]
     },
     "execution_count": 14,
     "metadata": {},
     "output_type": "execute_result"
    }
   ],
   "source": [
    "train_data.head()"
   ]
  },
  {
   "cell_type": "code",
   "execution_count": 15,
   "id": "6f311104",
   "metadata": {},
   "outputs": [],
   "source": [
    "val_data = pd.DataFrame({'Target':y_val})\n",
    "for i in range(X_val.shape[1]):\n",
    "    val_data[i] = X_val[:,i]"
   ]
  },
  {
   "cell_type": "code",
   "execution_count": 16,
   "id": "729d849f",
   "metadata": {},
   "outputs": [
    {
     "data": {
      "text/html": [
       "<div>\n",
       "<style scoped>\n",
       "    .dataframe tbody tr th:only-of-type {\n",
       "        vertical-align: middle;\n",
       "    }\n",
       "\n",
       "    .dataframe tbody tr th {\n",
       "        vertical-align: top;\n",
       "    }\n",
       "\n",
       "    .dataframe thead th {\n",
       "        text-align: right;\n",
       "    }\n",
       "</style>\n",
       "<table border=\"1\" class=\"dataframe\">\n",
       "  <thead>\n",
       "    <tr style=\"text-align: right;\">\n",
       "      <th></th>\n",
       "      <th>Target</th>\n",
       "      <th>0</th>\n",
       "      <th>1</th>\n",
       "      <th>2</th>\n",
       "      <th>3</th>\n",
       "      <th>4</th>\n",
       "      <th>5</th>\n",
       "      <th>6</th>\n",
       "      <th>7</th>\n",
       "      <th>8</th>\n",
       "      <th>9</th>\n",
       "      <th>10</th>\n",
       "    </tr>\n",
       "  </thead>\n",
       "  <tbody>\n",
       "    <tr>\n",
       "      <th>0</th>\n",
       "      <td>1980.0700</td>\n",
       "      <td>0.0</td>\n",
       "      <td>1.0</td>\n",
       "      <td>1.0</td>\n",
       "      <td>0.0</td>\n",
       "      <td>0.0</td>\n",
       "      <td>0.0</td>\n",
       "      <td>0.0</td>\n",
       "      <td>1.0</td>\n",
       "      <td>-1.376021</td>\n",
       "      <td>0.403870</td>\n",
       "      <td>-0.088428</td>\n",
       "    </tr>\n",
       "    <tr>\n",
       "      <th>1</th>\n",
       "      <td>17043.3414</td>\n",
       "      <td>0.0</td>\n",
       "      <td>1.0</td>\n",
       "      <td>0.0</td>\n",
       "      <td>1.0</td>\n",
       "      <td>0.0</td>\n",
       "      <td>0.0</td>\n",
       "      <td>1.0</td>\n",
       "      <td>0.0</td>\n",
       "      <td>-0.949502</td>\n",
       "      <td>-0.579482</td>\n",
       "      <td>-0.911192</td>\n",
       "    </tr>\n",
       "    <tr>\n",
       "      <th>2</th>\n",
       "      <td>1256.2990</td>\n",
       "      <td>0.0</td>\n",
       "      <td>1.0</td>\n",
       "      <td>1.0</td>\n",
       "      <td>0.0</td>\n",
       "      <td>0.0</td>\n",
       "      <td>0.0</td>\n",
       "      <td>0.0</td>\n",
       "      <td>1.0</td>\n",
       "      <td>-1.447107</td>\n",
       "      <td>-0.026553</td>\n",
       "      <td>-0.911192</td>\n",
       "    </tr>\n",
       "    <tr>\n",
       "      <th>3</th>\n",
       "      <td>5836.5204</td>\n",
       "      <td>1.0</td>\n",
       "      <td>0.0</td>\n",
       "      <td>1.0</td>\n",
       "      <td>0.0</td>\n",
       "      <td>0.0</td>\n",
       "      <td>0.0</td>\n",
       "      <td>1.0</td>\n",
       "      <td>0.0</td>\n",
       "      <td>-0.309724</td>\n",
       "      <td>0.877336</td>\n",
       "      <td>0.734336</td>\n",
       "    </tr>\n",
       "    <tr>\n",
       "      <th>4</th>\n",
       "      <td>22478.6000</td>\n",
       "      <td>1.0</td>\n",
       "      <td>0.0</td>\n",
       "      <td>0.0</td>\n",
       "      <td>1.0</td>\n",
       "      <td>0.0</td>\n",
       "      <td>0.0</td>\n",
       "      <td>0.0</td>\n",
       "      <td>1.0</td>\n",
       "      <td>0.258967</td>\n",
       "      <td>-0.639079</td>\n",
       "      <td>0.734336</td>\n",
       "    </tr>\n",
       "  </tbody>\n",
       "</table>\n",
       "</div>"
      ],
      "text/plain": [
       "       Target    0    1    2    3    4    5    6    7         8         9  \\\n",
       "0   1980.0700  0.0  1.0  1.0  0.0  0.0  0.0  0.0  1.0 -1.376021  0.403870   \n",
       "1  17043.3414  0.0  1.0  0.0  1.0  0.0  0.0  1.0  0.0 -0.949502 -0.579482   \n",
       "2   1256.2990  0.0  1.0  1.0  0.0  0.0  0.0  0.0  1.0 -1.447107 -0.026553   \n",
       "3   5836.5204  1.0  0.0  1.0  0.0  0.0  0.0  1.0  0.0 -0.309724  0.877336   \n",
       "4  22478.6000  1.0  0.0  0.0  1.0  0.0  0.0  0.0  1.0  0.258967 -0.639079   \n",
       "\n",
       "         10  \n",
       "0 -0.088428  \n",
       "1 -0.911192  \n",
       "2 -0.911192  \n",
       "3  0.734336  \n",
       "4  0.734336  "
      ]
     },
     "execution_count": 16,
     "metadata": {},
     "output_type": "execute_result"
    }
   ],
   "source": [
    "val_data.head()"
   ]
  },
  {
   "cell_type": "code",
   "execution_count": 17,
   "id": "24e952f9",
   "metadata": {},
   "outputs": [],
   "source": [
    "# save train_data and validation_data as csv files.\n",
    "\n",
    "train_data.to_csv('train.csv', header = False, index = False)\n",
    "val_data.to_csv('validation.csv', header = False, index = False)"
   ]
  },
  {
   "cell_type": "code",
   "execution_count": 18,
   "id": "53d88a92",
   "metadata": {},
   "outputs": [],
   "source": [
    "# Boto3 is the Amazon Web Services (AWS) Software Development Kit (SDK) for Python\n",
    "# Boto3 allows Python developer to write software that makes use of services like Amazon S3 and Amazon EC2\n",
    "\n",
    "import sagemaker\n",
    "import boto3\n",
    "from sagemaker import Session\n",
    "\n",
    "# Let's create a Sagemaker session\n",
    "sagemaker_session = sagemaker.Session()\n",
    "bucket = Session().default_bucket() \n",
    "prefix = 'XGBoost-Regressor'\n",
    "key = 'XGBoost-Regressor'\n",
    "#Roles give learning and hosting access to the data\n",
    "#This is specified while opening the sagemakers instance in \"Create an IAM role\"\n",
    "role = sagemaker.get_execution_role()"
   ]
  },
  {
   "cell_type": "code",
   "execution_count": 19,
   "id": "f0bda90f",
   "metadata": {},
   "outputs": [
    {
     "name": "stdout",
     "output_type": "stream",
     "text": [
      "uploaded training data location: s3://sagemaker-us-east-2-363557075783/XGBoost-Regressor/train/XGBoost-Regressor\n"
     ]
    }
   ],
   "source": [
    "# read the data from csv file and then upload the data to s3 bucket\n",
    "import os\n",
    "with open('train.csv','rb') as f:\n",
    "    # The following code uploads the data into S3 bucket to be accessed later for training\n",
    "    boto3.Session().resource('s3').Bucket(bucket).Object(os.path.join(prefix, 'train', key)).upload_fileobj(f)\n",
    "\n",
    "# Let's print out the training data location in s3\n",
    "s3_train_data = 's3://{}/{}/train/{}'.format(bucket, prefix, key)\n",
    "print('uploaded training data location: {}'.format(s3_train_data))"
   ]
  },
  {
   "cell_type": "code",
   "execution_count": 20,
   "id": "e4e27659",
   "metadata": {},
   "outputs": [
    {
     "name": "stdout",
     "output_type": "stream",
     "text": [
      "uploaded validation data location: s3://sagemaker-us-east-2-363557075783/XGBoost-Regressor/validation/XGBoost-Regressor\n"
     ]
    }
   ],
   "source": [
    "# read the data from csv file and then upload the data to s3 bucket\n",
    "\n",
    "with open('validation.csv','rb') as f:\n",
    "    # The following code uploads the data into S3 bucket to be accessed later for training\n",
    "\n",
    "    boto3.Session().resource('s3').Bucket(bucket).Object(os.path.join(prefix, 'validation', key)).upload_fileobj(f)\n",
    "# Let's print out the validation data location in s3\n",
    "s3_validation_data = 's3://{}/{}/validation/{}'.format(bucket, prefix, key)\n",
    "print('uploaded validation data location: {}'.format(s3_validation_data))"
   ]
  },
  {
   "cell_type": "code",
   "execution_count": 21,
   "id": "de0cbeeb",
   "metadata": {},
   "outputs": [
    {
     "name": "stdout",
     "output_type": "stream",
     "text": [
      "training artifacts will be uploaded to: s3://sagemaker-us-east-2-363557075783/XGBoost-Regressor/output\n"
     ]
    }
   ],
   "source": [
    "# creates output placeholder in S3 bucket to store the output\n",
    "\n",
    "output_location = 's3://{}/{}/output'.format(bucket, prefix)\n",
    "print('training artifacts will be uploaded to: {}'.format(output_location))"
   ]
  },
  {
   "cell_type": "code",
   "execution_count": 24,
   "id": "d79a9b57",
   "metadata": {},
   "outputs": [],
   "source": [
    "container = sagemaker.image_uris.retrieve(\n",
    "    framework=\"xgboost\",\n",
    "    region=boto3.Session().region_name,\n",
    "    version=\"1.3-1\")# Latest version of XGboost"
   ]
  },
  {
   "cell_type": "code",
   "execution_count": 25,
   "id": "8b814670",
   "metadata": {},
   "outputs": [
    {
     "name": "stderr",
     "output_type": "stream",
     "text": [
      "train_instance_count has been renamed in sagemaker>=2.\n",
      "See: https://sagemaker.readthedocs.io/en/stable/v2.html for details.\n",
      "train_instance_type has been renamed in sagemaker>=2.\n",
      "See: https://sagemaker.readthedocs.io/en/stable/v2.html for details.\n"
     ]
    }
   ],
   "source": [
    "Xgboost_regressor1 = sagemaker.estimator.Estimator(container,\n",
    "                                       role, \n",
    "                                       train_instance_count = 1, \n",
    "                                       train_instance_type = 'ml.m4.xlarge',\n",
    "                                       output_path = output_location,\n",
    "                                       sagemaker_session = sagemaker_session)\n",
    "\n",
    "#We can tune the hyper-parameters to improve the performance of the model\n",
    "\n",
    "Xgboost_regressor1.set_hyperparameters(max_depth = 6,\n",
    "                           objective = 'reg:linear',\n",
    "                           colsample_bytree = 0.2405025950329596,\n",
    "                           eta=0.3011948580044998,            \n",
    "                           alpha = 4.25822450396689,\n",
    "                           num_round = 81\n",
    "                           )"
   ]
  },
  {
   "cell_type": "code",
   "execution_count": 26,
   "id": "3f6dea00",
   "metadata": {},
   "outputs": [
    {
     "name": "stderr",
     "output_type": "stream",
     "text": [
      "The class sagemaker.session.s3_input has been renamed in sagemaker>=2.\n",
      "See: https://sagemaker.readthedocs.io/en/stable/v2.html for details.\n",
      "The class sagemaker.session.s3_input has been renamed in sagemaker>=2.\n",
      "See: https://sagemaker.readthedocs.io/en/stable/v2.html for details.\n"
     ]
    },
    {
     "name": "stdout",
     "output_type": "stream",
     "text": [
      "2021-11-02 08:57:38 Starting - Starting the training job...\n",
      "2021-11-02 08:58:01 Starting - Launching requested ML instancesProfilerReport-1635843457: InProgress\n",
      "...\n",
      "2021-11-02 08:58:29 Starting - Preparing the instances for training............\n",
      "2021-11-02 09:00:31 Downloading - Downloading input data\n",
      "2021-11-02 09:00:31 Training - Downloading the training image.....\n",
      "2021-11-02 09:01:32 Uploading - Uploading generated training model\n",
      "2021-11-02 09:01:32 Completed - Training job completed\n",
      "\u001b[34m[2021-11-02 09:01:19.715 ip-10-0-234-206.us-east-2.compute.internal:1 INFO utils.py:27] RULE_JOB_STOP_SIGNAL_FILENAME: None\u001b[0m\n",
      "\u001b[34m[2021-11-02:09:01:19:INFO] Imported framework sagemaker_xgboost_container.training\u001b[0m\n",
      "\u001b[34m[2021-11-02:09:01:19:INFO] Failed to parse hyperparameter objective value reg:linear to Json.\u001b[0m\n",
      "\u001b[34mReturning the value itself\u001b[0m\n",
      "\u001b[34m[2021-11-02:09:01:19:INFO] No GPUs detected (normal if no gpus installed)\u001b[0m\n",
      "\u001b[34m[2021-11-02:09:01:19:INFO] Running XGBoost Sagemaker in algorithm mode\u001b[0m\n",
      "\u001b[34m[2021-11-02:09:01:19:INFO] Determined delimiter of CSV input is ','\u001b[0m\n",
      "\u001b[34m[2021-11-02:09:01:19:INFO] Determined delimiter of CSV input is ','\u001b[0m\n",
      "\u001b[34m[2021-11-02:09:01:19:INFO] Determined delimiter of CSV input is ','\u001b[0m\n",
      "\u001b[34m[2021-11-02:09:01:19:INFO] Determined delimiter of CSV input is ','\u001b[0m\n",
      "\u001b[34m[2021-11-02:09:01:19:INFO] Single node training.\u001b[0m\n",
      "\u001b[34m[2021-11-02:09:01:19:INFO] Train matrix has 1070 rows and 11 columns\u001b[0m\n",
      "\u001b[34m[2021-11-02:09:01:19:INFO] Validation matrix has 134 rows\u001b[0m\n",
      "\u001b[34m/miniconda3/lib/python3.7/site-packages/xgboost/training.py:20: UserWarning: Old style callback is deprecated.  See: https://xgboost.readthedocs.io/en/latest/python/callbacks.html\n",
      "  warnings.warn(f'Old style callback is deprecated.  See: {link}', UserWarning)\u001b[0m\n",
      "\u001b[34m[09:01:19] WARNING: ../src/objective/regression_obj.cu:170: reg:linear is now deprecated in favor of reg:squarederror.\u001b[0m\n",
      "\u001b[34m[0]#011train-rmse:15178.45898#011validation-rmse:16013.37695\u001b[0m\n",
      "\u001b[34m[1]#011train-rmse:13617.08398#011validation-rmse:14501.88867\u001b[0m\n",
      "\u001b[34m[2]#011train-rmse:12765.72949#011validation-rmse:13696.97559\u001b[0m\n",
      "\u001b[34m[3]#011train-rmse:12336.30566#011validation-rmse:13292.70508\u001b[0m\n",
      "\u001b[34m[4]#011train-rmse:12110.24414#011validation-rmse:13074.94141\u001b[0m\n",
      "\u001b[34m[5]#011train-rmse:11973.16211#011validation-rmse:12912.23828\u001b[0m\n",
      "\u001b[34m[6]#011train-rmse:9926.56445#011validation-rmse:10639.62012\u001b[0m\n",
      "\u001b[34m[7]#011train-rmse:9892.12695#011validation-rmse:10610.00293\u001b[0m\n",
      "\u001b[34m[8]#011train-rmse:9462.00781#011validation-rmse:10452.71094\u001b[0m\n",
      "\u001b[34m[9]#011train-rmse:8316.13574#011validation-rmse:9197.82715\u001b[0m\n",
      "\u001b[34m[10]#011train-rmse:8311.27148#011validation-rmse:9197.60449\u001b[0m\n",
      "\u001b[34m[11]#011train-rmse:7825.02734#011validation-rmse:8746.33301\u001b[0m\n",
      "\u001b[34m[12]#011train-rmse:7167.46777#011validation-rmse:8014.75781\u001b[0m\n",
      "\u001b[34m[13]#011train-rmse:6821.35107#011validation-rmse:7617.61621\u001b[0m\n",
      "\u001b[34m[14]#011train-rmse:6819.65625#011validation-rmse:7615.68359\u001b[0m\n",
      "\u001b[34m[15]#011train-rmse:6818.50732#011validation-rmse:7612.67725\u001b[0m\n",
      "\u001b[34m[16]#011train-rmse:6818.20996#011validation-rmse:7611.29590\u001b[0m\n",
      "\u001b[34m[17]#011train-rmse:6612.71973#011validation-rmse:7617.05566\u001b[0m\n",
      "\u001b[34m[18]#011train-rmse:6426.04492#011validation-rmse:7398.13184\u001b[0m\n",
      "\u001b[34m[19]#011train-rmse:6425.57617#011validation-rmse:7395.75000\u001b[0m\n",
      "\u001b[34m[20]#011train-rmse:6403.29346#011validation-rmse:7382.29932\u001b[0m\n",
      "\u001b[34m[21]#011train-rmse:6273.76367#011validation-rmse:7393.84912\u001b[0m\n",
      "\u001b[34m[22]#011train-rmse:5586.99951#011validation-rmse:6747.37109\u001b[0m\n",
      "\u001b[34m[23]#011train-rmse:5583.84326#011validation-rmse:6738.98975\u001b[0m\n",
      "\u001b[34m[24]#011train-rmse:5248.42871#011validation-rmse:6446.75586\u001b[0m\n",
      "\u001b[34m[25]#011train-rmse:5092.06738#011validation-rmse:6304.86475\u001b[0m\n",
      "\u001b[34m[26]#011train-rmse:5005.90723#011validation-rmse:6210.21338\u001b[0m\n",
      "\u001b[34m[27]#011train-rmse:4961.15820#011validation-rmse:6156.33105\u001b[0m\n",
      "\u001b[34m[28]#011train-rmse:4950.13721#011validation-rmse:6148.86963\u001b[0m\n",
      "\u001b[34m[29]#011train-rmse:4844.11719#011validation-rmse:6145.54785\u001b[0m\n",
      "\u001b[34m[30]#011train-rmse:4843.93262#011validation-rmse:6143.25195\u001b[0m\n",
      "\u001b[34m[31]#011train-rmse:4843.06494#011validation-rmse:6142.37305\u001b[0m\n",
      "\u001b[34m[32]#011train-rmse:4727.91748#011validation-rmse:6103.76807\u001b[0m\n",
      "\u001b[34m[33]#011train-rmse:4660.11768#011validation-rmse:6018.78857\u001b[0m\n",
      "\u001b[34m[34]#011train-rmse:4625.03174#011validation-rmse:5967.90186\u001b[0m\n",
      "\u001b[34m[35]#011train-rmse:4607.86230#011validation-rmse:5938.02002\u001b[0m\n",
      "\u001b[34m[36]#011train-rmse:4607.76562#011validation-rmse:5937.26855\u001b[0m\n",
      "\u001b[34m[37]#011train-rmse:4606.99023#011validation-rmse:5938.45508\u001b[0m\n",
      "\u001b[34m[38]#011train-rmse:4597.01807#011validation-rmse:5936.45850\u001b[0m\n",
      "\u001b[34m[39]#011train-rmse:4587.94971#011validation-rmse:5917.76807\u001b[0m\n",
      "\u001b[34m[40]#011train-rmse:4587.06787#011validation-rmse:5916.50732\u001b[0m\n",
      "\u001b[34m[41]#011train-rmse:4585.98682#011validation-rmse:5920.00244\u001b[0m\n",
      "\u001b[34m[42]#011train-rmse:4580.54395#011validation-rmse:5911.72949\u001b[0m\n",
      "\u001b[34m[43]#011train-rmse:4580.52881#011validation-rmse:5912.14014\u001b[0m\n",
      "\u001b[34m[44]#011train-rmse:4574.71191#011validation-rmse:5912.17627\u001b[0m\n",
      "\u001b[34m[45]#011train-rmse:4570.87061#011validation-rmse:5906.62549\u001b[0m\n",
      "\u001b[34m[46]#011train-rmse:4550.51270#011validation-rmse:5876.85840\u001b[0m\n",
      "\u001b[34m[47]#011train-rmse:4512.57275#011validation-rmse:5890.69336\u001b[0m\n",
      "\u001b[34m[48]#011train-rmse:4477.81934#011validation-rmse:5883.58252\u001b[0m\n",
      "\u001b[34m[49]#011train-rmse:4469.36523#011validation-rmse:5876.98926\u001b[0m\n",
      "\u001b[34m[50]#011train-rmse:4469.31397#011validation-rmse:5876.14160\u001b[0m\n",
      "\u001b[34m[51]#011train-rmse:4433.51465#011validation-rmse:5857.88379\u001b[0m\n",
      "\u001b[34m[52]#011train-rmse:4433.50977#011validation-rmse:5857.80420\u001b[0m\n",
      "\u001b[34m[53]#011train-rmse:4431.22217#011validation-rmse:5862.05322\u001b[0m\n",
      "\u001b[34m[54]#011train-rmse:4427.94531#011validation-rmse:5862.81689\u001b[0m\n",
      "\u001b[34m[55]#011train-rmse:4426.91211#011validation-rmse:5862.13770\u001b[0m\n",
      "\u001b[34m[56]#011train-rmse:4387.20459#011validation-rmse:5890.01270\u001b[0m\n",
      "\u001b[34m[57]#011train-rmse:4339.60059#011validation-rmse:5911.09668\u001b[0m\n",
      "\u001b[34m[58]#011train-rmse:4339.18457#011validation-rmse:5911.99365\u001b[0m\n",
      "\u001b[34m[59]#011train-rmse:4321.92871#011validation-rmse:5893.85156\u001b[0m\n",
      "\u001b[34m[60]#011train-rmse:4321.77051#011validation-rmse:5894.78125\u001b[0m\n",
      "\u001b[34m[61]#011train-rmse:4314.98438#011validation-rmse:5901.46045\u001b[0m\n",
      "\u001b[34m[62]#011train-rmse:4314.39990#011validation-rmse:5900.33105\u001b[0m\n",
      "\u001b[34m[63]#011train-rmse:4214.36084#011validation-rmse:5900.92480\u001b[0m\n",
      "\u001b[34m[64]#011train-rmse:4164.26611#011validation-rmse:5910.66309\u001b[0m\n",
      "\u001b[34m[65]#011train-rmse:4164.17285#011validation-rmse:5908.46826\u001b[0m\n",
      "\u001b[34m[66]#011train-rmse:4152.77832#011validation-rmse:5880.26953\u001b[0m\n",
      "\u001b[34m[67]#011train-rmse:4115.07275#011validation-rmse:5897.38623\u001b[0m\n",
      "\u001b[34m[68]#011train-rmse:4114.83496#011validation-rmse:5899.23096\u001b[0m\n",
      "\u001b[34m[69]#011train-rmse:4114.46680#011validation-rmse:5898.52734\u001b[0m\n",
      "\u001b[34m[70]#011train-rmse:4086.25342#011validation-rmse:5884.17285\u001b[0m\n",
      "\u001b[34m[71]#011train-rmse:4076.69385#011validation-rmse:5877.10547\u001b[0m\n",
      "\u001b[34m[72]#011train-rmse:4075.86743#011validation-rmse:5882.14600\u001b[0m\n",
      "\u001b[34m[73]#011train-rmse:4075.59863#011validation-rmse:5881.01172\u001b[0m\n",
      "\u001b[34m[74]#011train-rmse:4075.51489#011validation-rmse:5881.93359\u001b[0m\n",
      "\u001b[34m[75]#011train-rmse:4075.38208#011validation-rmse:5883.86523\u001b[0m\n",
      "\u001b[34m[76]#011train-rmse:4072.74487#011validation-rmse:5883.01270\u001b[0m\n",
      "\u001b[34m[77]#011train-rmse:4067.10376#011validation-rmse:5875.84277\u001b[0m\n",
      "\u001b[34m[78]#011train-rmse:4066.74805#011validation-rmse:5876.44482\u001b[0m\n",
      "\u001b[34m[79]#011train-rmse:4052.67700#011validation-rmse:5868.75879\u001b[0m\n",
      "\u001b[34m[80]#011train-rmse:4052.63257#011validation-rmse:5867.79053\u001b[0m\n",
      "Training seconds: 75\n",
      "Billable seconds: 75\n"
     ]
    }
   ],
   "source": [
    "train_input = sagemaker.session.s3_input(s3_data = s3_train_data, content_type='csv',s3_data_type = 'S3Prefix')\n",
    "valid_input = sagemaker.session.s3_input(s3_data = s3_validation_data, content_type='csv',s3_data_type = 'S3Prefix')\n",
    "\n",
    "\n",
    "data_channels = {'train': train_input,'validation': valid_input}\n",
    "\n",
    "\n",
    "Xgboost_regressor1.fit(data_channels)"
   ]
  },
  {
   "cell_type": "code",
   "execution_count": 27,
   "id": "24f2bb02",
   "metadata": {},
   "outputs": [
    {
     "name": "stdout",
     "output_type": "stream",
     "text": [
      "------!"
     ]
    }
   ],
   "source": [
    "# Deploy the model to perform inference \n",
    "\n",
    "Xgboost_regressor = Xgboost_regressor1.deploy(initial_instance_count = 1, instance_type = 'ml.m4.xlarge')"
   ]
  },
  {
   "cell_type": "code",
   "execution_count": 28,
   "id": "da2ba186",
   "metadata": {},
   "outputs": [],
   "source": [
    "'''\n",
    "Content type over-rides the data that will be passed to the deployed model, since the deployed model expects data\n",
    "in text/csv format, we specify this as content -type.\n",
    "\n",
    "Serializer accepts a single argument, the input data, and returns a sequence of bytes in the specified content\n",
    "type\n",
    "\n",
    "Reference: https://sagemaker.readthedocs.io/en/stable/predictors.html\n",
    "'''\n",
    "from sagemaker.predictor import csv_serializer, json_deserializer\n",
    "\n",
    "\n",
    "Xgboost_regressor.serializer = csv_serializer"
   ]
  },
  {
   "cell_type": "code",
   "execution_count": 29,
   "id": "ea654094",
   "metadata": {},
   "outputs": [
    {
     "data": {
      "text/plain": [
       "array([ 2643.2685  , 12957.118   ,  4266.1658  , 12404.8791  ,\n",
       "       12644.589   , 18246.4955  ,  5757.41345 ,  9095.06825 ,\n",
       "        6435.6237  ,  4527.18295 ,  8932.084   ,  9283.562   ,\n",
       "       18765.87545 ,  2597.779   ,  4753.6368  ,  8428.0693  ,\n",
       "       34439.8559  ,  7256.7231  ,  6067.12675 ,  2404.7338  ,\n",
       "       18804.7524  ,  4239.89265 , 33750.2918  , 11396.9002  ,\n",
       "        2020.5523  , 12096.6512  ,  3392.9768  , 42983.4585  ,\n",
       "       27941.28758 , 12347.172   , 12244.531   ,  3161.454   ,\n",
       "       22192.43711 ,  6079.6715  ,  8059.6791  , 23045.56616 ,\n",
       "        4889.9995  ,  3167.45585 , 13555.0049  ,  4687.797   ,\n",
       "        1986.9334  , 37607.5277  ,  2755.02095 ,  3208.787   ,\n",
       "       16577.7795  , 28101.33305 , 38709.176   ,  9644.2525  ,\n",
       "        4391.652   , 38282.7495  ,  9432.9253  ,  2710.82855 ,\n",
       "       12124.9924  , 23306.547   ,  4076.497   ,  9301.89355 ,\n",
       "        1727.54    ,  1708.92575 ,  7935.29115 , 12029.2867  ,\n",
       "        4137.5227  , 12363.547   ,  4463.2051  ,  2396.0959  ,\n",
       "        1391.5287  ,  2904.088   ,  9377.9047  , 14210.53595 ,\n",
       "        6238.298   ,  2198.18985 , 37829.7242  , 23082.95533 ,\n",
       "       27037.9141  , 38511.6283  , 12592.5345  ,  2719.27975 ,\n",
       "       11264.541   ,  3732.6251  , 46151.1245  , 10564.8845  ,\n",
       "        1674.6323  ,  5934.3798  , 42969.8527  , 48824.45    ,\n",
       "        8283.6807  ,  2699.56835 ,  5649.715   ,  1731.677   ,\n",
       "       12146.971   ,  8017.06115 , 10594.2257  , 21195.818   ,\n",
       "       13887.204   , 10977.2063  ,  2154.361   ,  1534.3045  ,\n",
       "       10594.50155 , 48673.5588  ,  4296.2712  , 20177.67113 ,\n",
       "        5245.2269  ,  2632.992   , 11848.141   , 12629.8967  ,\n",
       "       42124.5153  ,  8310.83915 ,  7196.867   ,  7441.501   ,\n",
       "       38746.3551  , 22493.65964 , 13607.36875 , 47055.5321  ,\n",
       "        3554.203   ,  7323.734819,  1837.2819  ,  7337.748   ,\n",
       "        8547.6913  ,  8125.7845  ,  6113.23105 ,  5272.1758  ,\n",
       "       28476.73499 ,  4751.07    ,  3972.9247  ,  2690.1138  ,\n",
       "        6402.29135 , 10601.63225 ,  6593.5083  ,  7261.741   ,\n",
       "        9872.701   ,  5080.096   ,  8569.8618  ,  9411.005   ,\n",
       "        7731.4271  ,  5709.1644  ])"
      ]
     },
     "execution_count": 29,
     "metadata": {},
     "output_type": "execute_result"
    }
   ],
   "source": [
    "y_test"
   ]
  },
  {
   "cell_type": "code",
   "execution_count": 30,
   "id": "20cd7146",
   "metadata": {},
   "outputs": [
    {
     "name": "stderr",
     "output_type": "stream",
     "text": [
      "The csv_serializer has been renamed in sagemaker>=2.\n",
      "See: https://sagemaker.readthedocs.io/en/stable/v2.html for details.\n"
     ]
    }
   ],
   "source": [
    "# making prediction\n",
    "\n",
    "predicted_values = Xgboost_regressor.predict(X_test)"
   ]
  },
  {
   "cell_type": "code",
   "execution_count": 31,
   "id": "4d0238c8",
   "metadata": {},
   "outputs": [
    {
     "data": {
      "text/plain": [
       "b'7484.79052734375,14343.375,6486.638671875,7432.80029296875,18730.865234375,23956.763671875,10871.689453125,10607.94921875,12277.6025390625,2602.725830078125,9207.275390625,11235.3212890625,21617.953125,3438.016845703125,5998.60302734375,5957.41650390625,33730.93359375,9617.125,5377.6396484375,5529.59521484375,8462.658203125,2453.546630859375,28166.662109375,15720.283203125,5840.13623046875,13725.400390625,4351.9140625,35597.640625,13958.6494140625,14846.16796875,18664.080078125,3763.89990234375,9112.064453125,14825.029296875,6393.2861328125,9972.7734375,9655.5673828125,5327.0556640625,16949.99609375,2260.758544921875,8407.8076171875,30378.16796875,3687.74755859375,1889.9066162109375,26586.83203125,35027.97265625,33752.43359375,6818.8037109375,5032.88427734375,35676.81640625,15300.498046875,4110.79931640625,13545.94140625,32543.08203125,3525.4130859375,9549.8369140625,3746.58056640625,1839.8446044921875,15373.8046875,8331.466796875,4468.1328125,12772.892578125,9185.9453125,4030.6865234375,6631.1328125,8402.384765625,6737.5654296875,15604.0283203125,10082.939453125,2360.095703125,27046.716796875,3772.179931640625,33066.4453125,39102.4609375,12848.4599609375,6149.55419921875,15193.52734375,235.20074462890625,41507.7890625,12748.8798828125,4943.29541015625,6980.92138671875,36617.82421875,44250.0234375,10037.2158203125,4364.08984375,10525.9189453125,42.62281036376953,12277.7890625,8799.0908203125,12105.12109375,32101.04296875,18244.5078125,15183.9130859375,2883.546142578125,7410.0693359375,12547.3916015625,47210.515625,4444.548828125,6017.32763671875,5771.14208984375,4844.3212890625,13417.63671875,9537.611328125,41397.94140625,13686.419921875,9424.271484375,9585.7412109375,32142.298828125,5433.173828125,16436.09765625,40752.44140625,2779.6748046875,1453.2921142578125,12574.59765625,7302.82470703125,8277.2392578125,11759.9453125,8516.091796875,11608.25,8103.732421875,6291.97998046875,2329.4873046875,5899.587890625,6889.392578125,13075.396484375,8923.5263671875,12790.9375,13219.5654296875,643.8574829101562,11158.888671875,11504.5986328125,11588.568359375,7081.978515625'"
      ]
     },
     "execution_count": 31,
     "metadata": {},
     "output_type": "execute_result"
    }
   ],
   "source": [
    "predicted_values"
   ]
  },
  {
   "cell_type": "code",
   "execution_count": 32,
   "id": "76120b74",
   "metadata": {},
   "outputs": [],
   "source": [
    "# custom code to convert the values in bytes format to array\n",
    "\n",
    "def bytes_2_array(x):\n",
    "    l = str(x).split(',')\n",
    "    l[0] = l[0][2:]\n",
    "    l[-1] = l[-1][:-1]\n",
    "    for i in range(len(l)):\n",
    "        l[i] = float(l[i])\n",
    "    l = np.array(l).astype('float32')\n",
    "    return l.reshape(-1,1)"
   ]
  },
  {
   "cell_type": "code",
   "execution_count": 33,
   "id": "8587bf0b",
   "metadata": {},
   "outputs": [],
   "source": [
    "predicted_values=bytes_2_array(predicted_values)"
   ]
  },
  {
   "cell_type": "code",
   "execution_count": 34,
   "id": "c80f02da",
   "metadata": {},
   "outputs": [
    {
     "name": "stdout",
     "output_type": "stream",
     "text": [
      "RMSE = 5487.131 \n",
      "MSE = 30108608.610516828 \n",
      "MAE = 3945.068554447029 \n",
      "R2 = 0.7888610071289972 \n",
      "Adjusted R2 = 0.769823884820956\n"
     ]
    }
   ],
   "source": [
    "from sklearn.metrics import r2_score, mean_squared_error, mean_absolute_error\n",
    "from math import sqrt\n",
    "k = X_test.shape[1]\n",
    "n = len(X_test)\n",
    "RMSE = float(format(np.sqrt(mean_squared_error(y_test, predicted_values)),'.3f'))\n",
    "MSE = mean_squared_error(y_test, predicted_values)\n",
    "MAE = mean_absolute_error(y_test, predicted_values)\n",
    "r2 = r2_score(y_test, predicted_values)\n",
    "adj_r2 = 1-(1-r2)*(n-1)/(n-k-1)\n",
    "\n",
    "print('RMSE =',RMSE, '\\nMSE =',MSE, '\\nMAE =',MAE, '\\nR2 =', r2, '\\nAdjusted R2 =', adj_r2) "
   ]
  },
  {
   "cell_type": "code",
   "execution_count": 35,
   "id": "14973f6c",
   "metadata": {},
   "outputs": [],
   "source": [
    "Xgboost_regressor.delete_endpoint()"
   ]
  },
  {
   "cell_type": "code",
   "execution_count": null,
   "id": "b2505e60",
   "metadata": {},
   "outputs": [],
   "source": []
  },
  {
   "cell_type": "code",
   "execution_count": null,
   "id": "745bcdd7",
   "metadata": {},
   "outputs": [],
   "source": []
  },
  {
   "cell_type": "code",
   "execution_count": null,
   "id": "aca2895c",
   "metadata": {},
   "outputs": [],
   "source": []
  },
  {
   "cell_type": "code",
   "execution_count": null,
   "id": "bdd39fbe",
   "metadata": {},
   "outputs": [],
   "source": []
  },
  {
   "cell_type": "code",
   "execution_count": null,
   "id": "c4035340",
   "metadata": {},
   "outputs": [],
   "source": []
  }
 ],
 "metadata": {
  "kernelspec": {
   "display_name": "Python 3",
   "language": "python",
   "name": "python3"
  },
  "language_info": {
   "codemirror_mode": {
    "name": "ipython",
    "version": 3
   },
   "file_extension": ".py",
   "mimetype": "text/x-python",
   "name": "python",
   "nbconvert_exporter": "python",
   "pygments_lexer": "ipython3",
   "version": "3.8.8"
  }
 },
 "nbformat": 4,
 "nbformat_minor": 5
}
